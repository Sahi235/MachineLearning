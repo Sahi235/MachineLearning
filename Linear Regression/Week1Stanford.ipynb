{
 "cells": [
  {
   "cell_type": "code",
   "execution_count": 55,
   "metadata": {},
   "outputs": [],
   "source": [
    "# importing all libraries that we need\n",
    "\n",
    "# numpy for working with array and matrix operations\n",
    "import numpy as np\n",
    "\n",
    "# ploting 2D data\n",
    "from matplotlib import pyplot\n",
    "\n",
    "# ploting 3D data\n",
    "from mpl_toolkits.mplot3d import Axes3D"
   ]
  },
  {
   "cell_type": "code",
   "execution_count": 56,
   "metadata": {},
   "outputs": [],
   "source": [
    "# loading the dataset that we are going to work with\n",
    "# this data set is just m dimensional data set which contains x and y (we are gonna work with one parameter) which m indicates\n",
    "# number of training set\n",
    "data = np.loadtxt('ex1data1.txt', delimiter=',')\n",
    "x, y = data[:, 0], data[:,1] "
   ]
  },
  {
   "cell_type": "code",
   "execution_count": 57,
   "metadata": {},
   "outputs": [
    {
     "data": {
      "image/png": "[encoded data removed]",
      "text/plain": [
       "<Figure size 432x288 with 1 Axes>"
      ]
     },
     "metadata": {
      "needs_background": "light"
     },
     "output_type": "display_data"
    }
   ],
   "source": [
    "# we are gonna show the data (cause it is only 1 parameter it is easy to visulise it on the graph)\n",
    "def visualize_data(x, y):\n",
    "    fig = pyplot.figure()\n",
    "    pyplot.scatter(x, y, c='red')\n",
    "    pyplot.ylabel('Profit in 10,000$')\n",
    "    pyplot.xlabel('Population of the city in 10,000s')\n",
    "visualize_data(x,y)"
   ]
  },
  {
   "cell_type": "markdown",
   "metadata": {},
   "source": [
    "<h3>Cost function equation</h3>\n",
    "$$ J(\\theta) = \\frac{1}{2m} \\sum_{i=1}^m \\left( h_{\\theta}(x^{(i)}) - y^{(i)}\\right)^2$$\n",
    "\n",
    "where the hypothesis $h_\\theta(x)$ is given by the linear model\n",
    "$$ h_\\theta(x) = \\theta^Tx = \\theta_0 + \\theta_1 x_1$$\n"
   ]
  },
  {
   "cell_type": "code",
   "execution_count": 58,
   "metadata": {},
   "outputs": [],
   "source": [
    "# before we start writing cost function we have to insert one column to X matrix, be cause we are gonna use\n",
    "# vectorized version of computation\n",
    "#Do not run this column more than ones\n",
    "\n",
    "m = y.size # we can also write x.size because they are both same at this case\n",
    "x = np.stack([np.ones(m), x], axis=1)"
   ]
  },
  {
   "cell_type": "code",
   "execution_count": 59,
   "metadata": {},
   "outputs": [],
   "source": [
    "def compute_costfunction(x,y, theta):\n",
    "    m = y.size\n",
    "    h = x @ theta\n",
    "    difference = (h - y) ** 2\n",
    "    j = np.sum(difference) / (2 * m)\n",
    "    return j"
   ]
  },
  {
   "cell_type": "code",
   "execution_count": 60,
   "metadata": {},
   "outputs": [
    {
     "name": "stdout",
     "output_type": "stream",
     "text": [
      "With theta = [0, 0] \n",
      "Cost computed = 32.07\n",
      "Expected cost value (approximately) 32.07\n",
      "\n",
      "With theta = [-1, 2]\n",
      "Cost computed = 54.24\n",
      "Expected cost value (approximately) 54.24\n"
     ]
    }
   ],
   "source": [
    "# testing to see if out cost function works properly or not\n",
    "theta = np.array([0.0, 0.0])\n",
    "j = compute_costfunction(x,y,theta)\n",
    "print('With theta = [0, 0] \\nCost computed = %.2f' % j)\n",
    "print('Expected cost value (approximately) 32.07\\n')\n",
    "\n",
    "\n",
    "theta = np.array([-1, 2])\n",
    "j = compute_costfunction(x,y,theta)\n",
    "print('With theta = [-1, 2]\\nCost computed = %.2f' % j)\n",
    "print('Expected cost value (approximately) 54.24')"
   ]
  },
  {
   "cell_type": "markdown",
   "metadata": {},
   "source": [
    "<h3>Gradient decent</h3>\n",
    "\n",
    "$$ \\theta_j = \\theta_j - \\alpha \\frac{1}{m} \\sum_{i=1}^m \\left( h_\\theta(x^{(i)}) - y^{(i)}\\right)x_j^{(i)} \\qquad \\text{simultaneously update } \\theta_j \\text{ for all } j$$\n",
    "\n",
    "With each step of gradient descent, your parameters $\\theta_j$ come closer to the optimal values that will achieve the lowest cost J($\\theta$).\n"
   ]
  },
  {
   "cell_type": "code",
   "execution_count": 66,
   "metadata": {},
   "outputs": [],
   "source": [
    "def gradient_decent(x,y,theta,alpha,num_iters):\n",
    "    m = y.shape[0]\n",
    "    tetha = theta.copy()\n",
    "    j_history = []\n",
    "    \n",
    "    for i in range(num_iters):\n",
    "        h = x @ theta\n",
    "        difference = (h - y)\n",
    "        theta = theta - (alpha / m) * (x.T @ difference)\n",
    "        \n",
    "        #then we compute cost function for each itteration to see the changes\n",
    "        j_history.append(compute_costfunction(x,y, theta))\n",
    "    \n",
    "    return theta, j_history\n",
    "    "
   ]
  },
  {
   "cell_type": "code",
   "execution_count": 68,
   "metadata": {},
   "outputs": [
    {
     "name": "stdout",
     "output_type": "stream",
     "text": [
      "Theta found by gradient descent: -3.6303, 1.1664\n",
      "Expected theta values (approximately): [-3.6303, 1.1664]\n"
     ]
    }
   ],
   "source": [
    "# testing our gradoent decent function\n",
    "# initialize fitting parameters\n",
    "theta = np.zeros(2)\n",
    "\n",
    "# some gradient descent settings\n",
    "iterations = 1500\n",
    "alpha = 0.01\n",
    "\n",
    "theta, J_history = gradient_decent(x ,y, theta, alpha, iterations)\n",
    "print('Theta found by gradient descent: {:.4f}, {:.4f}'.format(*theta))\n",
    "print('Expected theta values (approximately): [-3.6303, 1.1664]')"
   ]
  },
  {
   "cell_type": "code",
   "execution_count": 71,
   "metadata": {},
   "outputs": [
    {
     "data": {
      "text/plain": [
       "<matplotlib.legend.Legend at 0x206572295b0>"
      ]
     },
     "execution_count": 71,
     "metadata": {},
     "output_type": "execute_result"
    },
    {
     "data": {
      "image/png": "[encoded data removed]",
      "text/plain": [
       "<Figure size 432x288 with 1 Axes>"
      ]
     },
     "metadata": {
      "needs_background": "light"
     },
     "output_type": "display_data"
    }
   ],
   "source": [
    "visualize_data(x[:,1], y)\n",
    "pyplot.plot(x[:, 1], np.dot(x, theta), '-')\n",
    "pyplot.legend(['Training data', 'Linear Regression'])"
   ]
  },
  {
   "cell_type": "code",
   "execution_count": 72,
   "metadata": {},
   "outputs": [
    {
     "name": "stdout",
     "output_type": "stream",
     "text": [
      "For population = 35,000, we predict a profit of 4519.77\n",
      "\n",
      "For population = 70,000, we predict a profit of 45342.45\n",
      "\n"
     ]
    }
   ],
   "source": [
    "# Predict values for population sizes of 35,000 and 70,000\n",
    "predict1 = np.dot([1, 3.5], theta)\n",
    "print('For population = 35,000, we predict a profit of {:.2f}\\n'.format(predict1*10000))\n",
    "\n",
    "predict2 = np.dot([1, 7], theta)\n",
    "print('For population = 70,000, we predict a profit of {:.2f}\\n'.format(predict2*10000))"
   ]
  },
  {
   "cell_type": "code",
   "execution_count": null,
   "metadata": {},
   "outputs": [],
   "source": []
  }
 ],
 "metadata": {
  "kernelspec": {
   "display_name": "Python 3",
   "language": "python",
   "name": "python3"
  },
  "language_info": {
   "codemirror_mode": {
    "name": "ipython",
    "version": 3
   },
   "file_extension": ".py",
   "mimetype": "text/x-python",
   "name": "python",
   "nbconvert_exporter": "python",
   "pygments_lexer": "ipython3",
   "version": "3.8.5"
  }
 },
 "nbformat": 4,
 "nbformat_minor": 4
}
