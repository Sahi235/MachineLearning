{
 "cells": [
  {
   "cell_type": "code",
   "execution_count": 291,
   "metadata": {},
   "outputs": [],
   "source": [
    "# Importing libraries\n",
    "import os\n",
    "import pandas as pd\n",
    "import numpy as np\n",
    "# ploting 2D data\n",
    "from matplotlib import pyplot\n",
    "# ploting 3D data\n",
    "from mpl_toolkits.mplot3d import Axes3D"
   ]
  },
  {
   "cell_type": "code",
   "execution_count": 292,
   "metadata": {},
   "outputs": [],
   "source": [
    "# Loading data set with pandas and cleaning some data\n",
    "\n",
    "df = pd.read_csv('nyc-east-river-bicycle-counts.csv')\n",
    "df.drop('Unnamed: 0', inplace=True, axis = 1)"
   ]
  },
  {
   "cell_type": "code",
   "execution_count": 293,
   "metadata": {},
   "outputs": [],
   "source": [
    "# Extracting our x and y from data set as series and converting them to numpy array \n",
    "\n",
    "x = df[['Low Temp (°F)', 'Low Temp (°F)', 'Precipitation']].to_numpy()\n",
    "y = df[['Brooklyn Bridge', 'Manhattan Bridge','Williamsburg Bridge', 'Queensboro Bridge']].to_numpy()"
   ]
  },
  {
   "cell_type": "code",
   "execution_count": 294,
   "metadata": {},
   "outputs": [],
   "source": [
    "# before we start writing cost function we have to insert one column to X matrix, be cause we are gonna use\n",
    "# vectorized version of computation\n",
    "#Do not run this column more than ones\n",
    "\n",
    "m = x[:,1].size\n",
    "x = np.append(np.ones(m).reshape(m,1),x, axis=1)"
   ]
  },
  {
   "cell_type": "markdown",
   "metadata": {},
   "source": [
    "<h3>Cost function equation</h3>\n",
    "$$ J(\\theta) = \\frac{1}{2m} \\sum_{i=1}^m \\left( h_{\\theta}(x^{(i)}) - y^{(i)}\\right)^2$$\n",
    "\n",
    "where the hypothesis $h_\\theta(x)$ is given by the linear model\n",
    "$$ h_\\theta(x) = \\theta^Tx = \\theta_0 + \\theta_1 x_1$$"
   ]
  },
  {
   "cell_type": "code",
   "execution_count": 295,
   "metadata": {},
   "outputs": [],
   "source": [
    "def compute_cost_function(x, y, theta):\n",
    "    m = y.size\n",
    "    j = 0\n",
    "    h = x @ theta\n",
    "    difference = (h - y) ** 2\n",
    "    j = np.sum(difference) / (2 * m)\n",
    "    return j\n",
    "    "
   ]
  },
  {
   "cell_type": "code",
   "execution_count": 296,
   "metadata": {},
   "outputs": [
    {
     "data": {
      "text/plain": [
       "3054739.0833333335"
      ]
     },
     "execution_count": 296,
     "metadata": {},
     "output_type": "execute_result"
    }
   ],
   "source": [
    "# Testing cost function if it works\n",
    "compute_cost_function(x, y[:,0], np.array([0,0,0,0]))"
   ]
  },
  {
   "cell_type": "code",
   "execution_count": 297,
   "metadata": {},
   "outputs": [],
   "source": [
    "def visualise_cost_function(x,y):\n",
    "    pyplot.plot(x, y, c='red')\n",
    "    pyplot.xlabel('Number Of Itteration')\n",
    "    pyplot.ylabel('Cost Function')\n",
    "    pyplot.show()"
   ]
  },
  {
   "cell_type": "markdown",
   "metadata": {},
   "source": [
    "<h3>Gradient decent</h3>\n",
    "\n",
    "$$ \\theta_j = \\theta_j - \\alpha \\frac{1}{m} \\sum_{i=1}^m \\left( h_\\theta(x^{(i)}) - y^{(i)}\\right)x_j^{(i)} \\qquad \\text{simultaneously update } \\theta_j \\text{ for all } j$$\n",
    "\n",
    "With each step of gradient descent, your parameters $\\theta_j$ come closer to the optimal values that will achieve the lowest cost J($\\theta$).\n",
    "\n",
    "<h3 class=\"text text-danger\">Notice here we have multiple y then we have to make model for each y and compute it's related thetas</h3>"
   ]
  },
  {
   "cell_type": "code",
   "execution_count": 304,
   "metadata": {},
   "outputs": [],
   "source": [
    "# Somehow this shit doesnt work properly\n",
    "# will fix this later\n",
    "def gradient_decent_for_all_y(x, y, theta, alpha, num_itteration):\n",
    "    m = y[:, 0].size\n",
    "    temp_y = np.array(y, copy=True)\n",
    "    thetas = []\n",
    "    \n",
    "    for i in range(len(y.T)):\n",
    "        temp = []\n",
    "        temp_theta = np.array(theta, copy=True)\n",
    "        for n in range(num_itteration):\n",
    "            h = x @ temp_theta\n",
    "            difference = (h - y[:, i])\n",
    "            temp_theta = temp_theta - (alpha / m) * (x.T @ difference)\n",
    "            temp.append([n, compute_cost_function(x,y[:,i], temp_theta)])\n",
    "        thetas.append(temp_theta)\n",
    "        visualise_cost_function(temp[0], temp[1])\n",
    "    return thetas\n",
    "            "
   ]
  },
  {
   "cell_type": "code",
   "execution_count": 305,
   "metadata": {},
   "outputs": [],
   "source": [
    "def gradient_decent2(x,y,theta,alpha,num_iters):\n",
    "    m = y.shape[0]\n",
    "    tetha = theta.copy()\n",
    "    info = []\n",
    "    for i in range(num_iters):\n",
    "        h = x @ theta\n",
    "        difference = (h - y)\n",
    "        theta = theta - (alpha / m) * (x.T @ difference)\n",
    "        \n",
    "        #then we compute cost function for each itteration to see the changes\n",
    "        j = compute_cost_function(x,y, theta)\n",
    "        info.append([i, j])\n",
    "        \n",
    "    return theta, info"
   ]
  },
  {
   "cell_type": "code",
   "execution_count": 318,
   "metadata": {},
   "outputs": [
    {
     "data": {
      "image/png": "[encoded data removed]",
      "text/plain": [
       "<Figure size 432x288 with 1 Axes>"
      ]
     },
     "metadata": {
      "needs_background": "light"
     },
     "output_type": "display_data"
    },
    {
     "name": "stdout",
     "output_type": "stream",
     "text": [
      "[ 0.50603484 24.35986738 24.35986738 -0.03763177]\n"
     ]
    }
   ],
   "source": [
    "# finding first y's thetas\n",
    "theta0, info = gradient_decent2(x, y[:,0], np.array([0,0,0,0]) ,0.00004, 30)\n",
    "info = np.array([info])\n",
    "info = info.T\n",
    "visualise_cost_function(info[0], info[1])\n",
    "print(theta0)"
   ]
  },
  {
   "cell_type": "code",
   "execution_count": 319,
   "metadata": {},
   "outputs": [
    {
     "data": {
      "image/png": "[encoded data removed]",
      "text/plain": [
       "<Figure size 432x288 with 1 Axes>"
      ]
     },
     "metadata": {
      "needs_background": "light"
     },
     "output_type": "display_data"
    },
    {
     "name": "stdout",
     "output_type": "stream",
     "text": [
      "[ 0.91074179 43.50366746 43.50366746 -0.08748773]\n"
     ]
    }
   ],
   "source": [
    "# finding second y's thetas\n",
    "theta1, info = gradient_decent2(x, y[:,1], np.array([0,0,0,0]) ,0.00003, 50)\n",
    "info = np.array([info])\n",
    "info = info.T\n",
    "visualise_cost_function(info[0], info[1])\n",
    "print(theta1)"
   ]
  },
  {
   "cell_type": "code",
   "execution_count": 320,
   "metadata": {},
   "outputs": [
    {
     "data": {
      "image/png": "[encoded data removed]",
      "text/plain": [
       "<Figure size 432x288 with 1 Axes>"
      ]
     },
     "metadata": {
      "needs_background": "light"
     },
     "output_type": "display_data"
    },
    {
     "name": "stdout",
     "output_type": "stream",
     "text": [
      "[ 1.07751044e+00  5.18369856e+01  5.18369856e+01 -3.67910338e-02]\n"
     ]
    }
   ],
   "source": [
    "# finding third y's thetas\n",
    "theta2, info = gradient_decent2(x, y[:,2], np.array([0,0,0,0]) ,0.00002, 50)\n",
    "info = np.array([info])\n",
    "info = info.T\n",
    "visualise_cost_function(info[0], info[1])\n",
    "print(theta2)"
   ]
  },
  {
   "cell_type": "code",
   "execution_count": 321,
   "metadata": {},
   "outputs": [
    {
     "data": {
      "image/png": "[encoded data removed]",
      "text/plain": [
       "<Figure size 432x288 with 1 Axes>"
      ]
     },
     "metadata": {
      "needs_background": "light"
     },
     "output_type": "display_data"
    },
    {
     "name": "stdout",
     "output_type": "stream",
     "text": [
      "[ 7.46660740e-01  3.48569192e+01  3.48569192e+01 -7.55293699e-03]\n"
     ]
    }
   ],
   "source": [
    "# finding forth y's thetas\n",
    "theta3, info = gradient_decent2(x, y[:,3], np.array([0,0,0,0]) ,0.00001, 80)\n",
    "info = np.array([info])\n",
    "info = info.T\n",
    "visualise_cost_function(info[0], info[1])\n",
    "print(theta3)"
   ]
  },
  {
   "cell_type": "code",
   "execution_count": null,
   "metadata": {},
   "outputs": [],
   "source": []
  }
 ],
 "metadata": {
  "kernelspec": {
   "display_name": "Python 3",
   "language": "python",
   "name": "python3"
  },
  "language_info": {
   "codemirror_mode": {
    "name": "ipython",
    "version": 3
   },
   "file_extension": ".py",
   "mimetype": "text/x-python",
   "name": "python",
   "nbconvert_exporter": "python",
   "pygments_lexer": "ipython3",
   "version": "3.8.5"
  }
 },
 "nbformat": 4,
 "nbformat_minor": 4
}
