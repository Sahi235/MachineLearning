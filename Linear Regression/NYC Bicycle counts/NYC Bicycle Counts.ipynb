{
 "cells": [
  {
   "cell_type": "code",
   "execution_count": 29,
   "metadata": {},
   "outputs": [],
   "source": [
    "# Importing libraries\n",
    "import os\n",
    "import pandas as pd\n",
    "import numpy as np\n",
    "# ploting 2D data\n",
    "from matplotlib import pyplot\n",
    "# ploting 3D data\n",
    "from mpl_toolkits.mplot3d import Axes3D"
   ]
  },
  {
   "cell_type": "code",
   "execution_count": 30,
   "metadata": {},
   "outputs": [],
   "source": [
    "# Loading data set with pandas and cleaning some data\n",
    "\n",
    "df = pd.read_csv('nyc-east-river-bicycle-counts.csv')\n",
    "df.drop('Unnamed: 0', inplace=True, axis = 1)"
   ]
  },
  {
   "cell_type": "code",
   "execution_count": 31,
   "metadata": {},
   "outputs": [],
   "source": [
    "# Extracting our x and y from data set as series and converting them to numpy array \n",
    "\n",
    "x = df[['High Temp (°F)', 'Low Temp (°F)', 'Precipitation']].to_numpy()\n",
    "y = df[['Brooklyn Bridge', 'Manhattan Bridge','Williamsburg Bridge', 'Queensboro Bridge']].to_numpy()\n",
    "temp_x = x.copy()"
   ]
  },
  {
   "cell_type": "code",
   "execution_count": 32,
   "metadata": {},
   "outputs": [],
   "source": [
    "# before we start writing cost function we have to insert one column to X matrix, be cause we are gonna use\n",
    "# vectorized version of computation\n",
    "#Do not run this column more than ones\n",
    "\n",
    "m = x[:,1].size\n",
    "x = np.append(np.ones(m).reshape(m,1),x, axis=1)\n",
    "temp_x = np.append(np.ones(m).reshape(m, 1), temp_x, axis=1)"
   ]
  },
  {
   "cell_type": "markdown",
   "metadata": {},
   "source": [
    "<h3>Cost function equation</h3>\n",
    "$$ J(\\theta) = \\frac{1}{2m} \\sum_{i=1}^m \\left( h_{\\theta}(x^{(i)}) - y^{(i)}\\right)^2$$\n",
    "\n",
    "where the hypothesis $h_\\theta(x)$ is given by the linear model\n",
    "$$ h_\\theta(x) = \\theta^Tx = \\theta_0 + \\theta_1 x_1$$"
   ]
  },
  {
   "cell_type": "code",
   "execution_count": 33,
   "metadata": {},
   "outputs": [],
   "source": [
    "def compute_cost_function(x, y, theta):\n",
    "    m = y.size\n",
    "    j = 0\n",
    "    h = x @ theta\n",
    "    difference = (h - y) ** 2\n",
    "    j = np.sum(difference) / (2 * m)\n",
    "    return j\n",
    "    "
   ]
  },
  {
   "cell_type": "code",
   "execution_count": 34,
   "metadata": {},
   "outputs": [
    {
     "data": {
      "text/plain": [
       "3054739.0833333335"
      ]
     },
     "execution_count": 34,
     "metadata": {},
     "output_type": "execute_result"
    }
   ],
   "source": [
    "# Testing cost function if it works\n",
    "compute_cost_function(x, y[:,0], np.array([0,0,0,0]))"
   ]
  },
  {
   "cell_type": "code",
   "execution_count": 35,
   "metadata": {},
   "outputs": [],
   "source": [
    "def visualise_cost_function(x,y):\n",
    "    pyplot.plot(x, y, c='red')\n",
    "    pyplot.xlabel('Number Of Itteration')\n",
    "    pyplot.ylabel('Cost Function')\n",
    "    pyplot.show()"
   ]
  },
  {
   "cell_type": "markdown",
   "metadata": {},
   "source": [
    "<h3>Gradient decent</h3>\n",
    "\n",
    "$$ \\theta_j = \\theta_j - \\alpha \\frac{1}{m} \\sum_{i=1}^m \\left( h_\\theta(x^{(i)}) - y^{(i)}\\right)x_j^{(i)} \\qquad \\text{simultaneously update } \\theta_j \\text{ for all } j$$\n",
    "\n",
    "With each step of gradient descent, your parameters $\\theta_j$ come closer to the optimal values that will achieve the lowest cost J($\\theta$).\n",
    "\n",
    "<h3 class=\"text text-danger\">Notice here we have multiple y then we have to make model for each y and compute it's related thetas</h3>"
   ]
  },
  {
   "cell_type": "code",
   "execution_count": 36,
   "metadata": {},
   "outputs": [],
   "source": [
    "# Somehow this shit doesnt work properly\n",
    "# will fix this later\n",
    "def gradient_decent_for_all_y(x, y, theta, alpha, num_itteration):\n",
    "    m = y[:, 0].size\n",
    "    temp_y = np.array(y, copy=True)\n",
    "    thetas = []\n",
    "    \n",
    "    for i in range(len(y.T)):\n",
    "        temp = []\n",
    "        temp_theta = np.array(theta, copy=True)\n",
    "        for n in range(num_itteration):\n",
    "            h = x @ temp_theta\n",
    "            difference = (h - y[:, i])\n",
    "            temp_theta = temp_theta - (alpha / m) * (x.T @ difference)\n",
    "            temp.append([n, compute_cost_function(x,y[:,i], temp_theta)])\n",
    "        thetas.append(temp_theta)\n",
    "        #visualise_cost_function(temp[0], temp[1])\n",
    "    return thetas\n",
    "            "
   ]
  },
  {
   "cell_type": "code",
   "execution_count": 37,
   "metadata": {},
   "outputs": [],
   "source": [
    "def gradient_decent2(x,y,theta,alpha,num_iters):\n",
    "    m = y.shape[0]\n",
    "    tetha = theta.copy()\n",
    "    info = []\n",
    "    for i in range(num_iters):\n",
    "        h = x @ theta\n",
    "        difference = (h - y)\n",
    "        theta = theta - (alpha / m) * (x.T @ difference)\n",
    "        \n",
    "        #then we compute cost function for each itteration to see the changes\n",
    "        j = compute_cost_function(x,y, theta)\n",
    "        info.append([i, j])\n",
    "        \n",
    "    return theta, info"
   ]
  },
  {
   "cell_type": "code",
   "execution_count": 38,
   "metadata": {},
   "outputs": [
    {
     "data": {
      "image/png": "[encoded data removed]",
      "text/plain": [
       "<Figure size 432x288 with 1 Axes>"
      ]
     },
     "metadata": {
      "needs_background": "light"
     },
     "output_type": "display_data"
    },
    {
     "name": "stdout",
     "output_type": "stream",
     "text": [
      "[ 0.33476842 25.20868857 16.85557142 -0.04130135]\n"
     ]
    }
   ],
   "source": [
    "# finding first y's thetas\n",
    "theta0, info = gradient_decent2(x, y[:,0], np.array([0,0,0,0]) ,0.00004, 30)\n",
    "info = np.array([info])\n",
    "info = info.T\n",
    "visualise_cost_function(info[0], info[1])\n",
    "print(theta0)"
   ]
  },
  {
   "cell_type": "code",
   "execution_count": 39,
   "metadata": {},
   "outputs": [
    {
     "data": {
      "image/png": "[encoded data removed]",
      "text/plain": [
       "<Figure size 432x288 with 1 Axes>"
      ]
     },
     "metadata": {
      "needs_background": "light"
     },
     "output_type": "display_data"
    },
    {
     "name": "stdout",
     "output_type": "stream",
     "text": [
      "[ 0.58760221 45.15541966 29.66888552 -0.09245174]\n"
     ]
    }
   ],
   "source": [
    "# finding second y's thetas\n",
    "theta1, info = gradient_decent2(x, y[:,1], np.array([0,0,0,0]) ,0.00003, 50)\n",
    "info = np.array([info])\n",
    "info = info.T\n",
    "visualise_cost_function(info[0], info[1])\n",
    "print(theta1)"
   ]
  },
  {
   "cell_type": "code",
   "execution_count": 40,
   "metadata": {},
   "outputs": [
    {
     "data": {
      "image/png": "[encoded data removed]",
      "text/plain": [
       "<Figure size 432x288 with 1 Axes>"
      ]
     },
     "metadata": {
      "needs_background": "light"
     },
     "output_type": "display_data"
    },
    {
     "name": "stdout",
     "output_type": "stream",
     "text": [
      "[ 7.49689651e-01  5.26555950e+01  3.73091231e+01 -4.48062027e-02]\n"
     ]
    }
   ],
   "source": [
    "# finding third y's thetas\n",
    "theta2, info = gradient_decent2(x, y[:,2], np.array([0,0,0,0]) ,0.00002, 50)\n",
    "info = np.array([info])\n",
    "info = info.T\n",
    "visualise_cost_function(info[0], info[1])\n",
    "print(theta2)"
   ]
  },
  {
   "cell_type": "code",
   "execution_count": 41,
   "metadata": {},
   "outputs": [
    {
     "data": {
      "image/png": "[encoded data removed]",
      "text/plain": [
       "<Figure size 432x288 with 1 Axes>"
      ]
     },
     "metadata": {
      "needs_background": "light"
     },
     "output_type": "display_data"
    },
    {
     "name": "stdout",
     "output_type": "stream",
     "text": [
      "[ 5.41126229e-01  3.56404939e+01  2.56059626e+01 -1.34392242e-02]\n"
     ]
    }
   ],
   "source": [
    "# finding forth y's thetas\n",
    "theta3, info = gradient_decent2(x, y[:,3], np.array([0,0,0,0]) ,0.00001, 80)\n",
    "info = np.array([info])\n",
    "info = info.T\n",
    "visualise_cost_function(info[0], info[1])\n",
    "print(theta3)"
   ]
  },
  {
   "cell_type": "code",
   "execution_count": 42,
   "metadata": {},
   "outputs": [
    {
     "data": {
      "text/plain": [
       "[array([3.08818444e-01, 2.03897295e+01, 1.50251875e+01, 2.24576054e-04]),\n",
       " array([5.52446019e-01, 3.62474268e+01, 2.68193329e+01, 1.88527095e-03]),\n",
       " array([6.64728815e-01, 4.33180161e+01, 3.23174528e+01, 7.18765910e-03]),\n",
       " array([4.62879999e-01, 2.96315885e+01, 2.20884295e+01, 7.15580355e-03])]"
      ]
     },
     "execution_count": 42,
     "metadata": {},
     "output_type": "execute_result"
    }
   ],
   "source": [
    "thetas = gradient_decent_for_all_y(x,y, np.array([0,0,0,0]), 0.000001, 300)\n",
    "thetas"
   ]
  },
  {
   "cell_type": "code",
   "execution_count": 43,
   "metadata": {},
   "outputs": [
    {
     "data": {
      "text/plain": [
       "1448.0243354683314"
      ]
     },
     "execution_count": 43,
     "metadata": {},
     "output_type": "execute_result"
    }
   ],
   "source": [
    "result = np.dot([1, 43, 38, 0.09], thetas[0])\n",
    "result"
   ]
  },
  {
   "cell_type": "code",
   "execution_count": 44,
   "metadata": {},
   "outputs": [],
   "source": [
    "temp_x[:,1] = (temp_x[:, 1] - temp_x[:, 1].min()) / (temp_x[:, 1].max() - temp_x[:, 1].min())"
   ]
  },
  {
   "cell_type": "code",
   "execution_count": 45,
   "metadata": {},
   "outputs": [],
   "source": [
    "temp_x[:,2] = (temp_x[:, 2] - temp_x[:, 2].min()) / (temp_x[:, 2].max() - temp_x[:, 2].min())"
   ]
  },
  {
   "cell_type": "code",
   "execution_count": 46,
   "metadata": {},
   "outputs": [],
   "source": [
    "#temp_x[:,3] = (temp_x[:, 3] - temp_x[:, 3].mean()) / (temp_x[:, 3].max() - temp_x[:, 3].min())"
   ]
  },
  {
   "cell_type": "code",
   "execution_count": 63,
   "metadata": {},
   "outputs": [
    {
     "data": {
      "text/plain": [
       "array([[1.00e+00, 7.81e+01, 6.60e+01, 1.00e-02],\n",
       "       [1.00e+00, 5.50e+01, 4.89e+01, 1.50e-01],\n",
       "       [1.00e+00, 3.99e+01, 3.40e+01, 9.00e-02],\n",
       "       [1.00e+00, 4.41e+01, 3.31e+01, 4.70e-01],\n",
       "       [1.00e+00, 4.21e+01, 2.61e+01, 0.00e+00],\n",
       "       [1.00e+00, 4.50e+01, 3.00e+01, 0.00e+00],\n",
       "       [1.00e+00, 5.70e+01, 5.31e+01, 9.00e-02],\n",
       "       [1.00e+00, 4.69e+01, 4.41e+01, 1.00e-02],\n",
       "       [1.00e+00, 4.30e+01, 3.79e+01, 9.00e-02],\n",
       "       [1.00e+00, 4.89e+01, 3.09e+01, 0.00e+00],\n",
       "       [1.00e+00, 6.21e+01, 4.60e+01, 1.00e-02],\n",
       "       [1.00e+00, 5.70e+01, 4.50e+01, 2.00e-01],\n",
       "       [1.00e+00, 5.70e+01, 3.99e+01, 0.00e+00],\n",
       "       [1.00e+00, 6.21e+01, 4.46e+01, 0.00e+00],\n",
       "       [1.00e+00, 6.40e+01, 4.41e+01, 0.00e+00],\n",
       "       [1.00e+00, 6.60e+01, 4.50e+01, 0.00e+00],\n",
       "       [1.00e+00, 7.39e+01, 4.60e+01, 0.00e+00],\n",
       "       [1.00e+00, 8.10e+01, 5.20e+01, 0.00e+00],\n",
       "       [1.00e+00, 7.11e+01, 6.30e+01, 0.00e+00],\n",
       "       [1.00e+00, 6.80e+01, 5.00e+01, 0.00e+00],\n",
       "       [1.00e+00, 7.11e+01, 5.00e+01, 0.00e+00],\n",
       "       [1.00e+00, 7.81e+01, 6.30e+01, 0.00e+00],\n",
       "       [1.00e+00, 7.00e+01, 6.10e+01, 1.60e-01],\n",
       "       [1.00e+00, 6.80e+01, 4.80e+01, 0.00e+00],\n",
       "       [1.00e+00, 6.69e+01, 5.40e+01, 0.00e+00],\n",
       "       [1.00e+00, 6.01e+01, 4.69e+01, 2.40e-01],\n",
       "       [1.00e+00, 6.21e+01, 4.69e+01, 0.00e+00],\n",
       "       [1.00e+00, 5.79e+01, 4.80e+01, 0.00e+00],\n",
       "       [1.00e+00, 5.70e+01, 4.69e+01, 5.00e-02],\n",
       "       [1.00e+00, 6.40e+01, 4.80e+01, 0.00e+00],\n",
       "       [1.00e+00, 7.81e+01, 6.60e+01, 1.00e-02],\n",
       "       [1.00e+00, 5.50e+01, 4.89e+01, 1.50e-01],\n",
       "       [1.00e+00, 3.99e+01, 3.40e+01, 9.00e-02],\n",
       "       [1.00e+00, 4.41e+01, 3.31e+01, 4.70e-01],\n",
       "       [1.00e+00, 4.21e+01, 2.61e+01, 0.00e+00],\n",
       "       [1.00e+00, 4.50e+01, 3.00e+01, 0.00e+00],\n",
       "       [1.00e+00, 5.70e+01, 5.31e+01, 9.00e-02],\n",
       "       [1.00e+00, 4.69e+01, 4.41e+01, 1.00e-02],\n",
       "       [1.00e+00, 4.30e+01, 3.79e+01, 9.00e-02],\n",
       "       [1.00e+00, 4.89e+01, 3.09e+01, 0.00e+00],\n",
       "       [1.00e+00, 6.21e+01, 4.60e+01, 1.00e-02],\n",
       "       [1.00e+00, 5.70e+01, 4.50e+01, 2.00e-01],\n",
       "       [1.00e+00, 5.70e+01, 3.99e+01, 0.00e+00],\n",
       "       [1.00e+00, 6.21e+01, 4.46e+01, 0.00e+00],\n",
       "       [1.00e+00, 6.40e+01, 4.41e+01, 0.00e+00],\n",
       "       [1.00e+00, 6.60e+01, 4.50e+01, 0.00e+00],\n",
       "       [1.00e+00, 7.39e+01, 4.60e+01, 0.00e+00],\n",
       "       [1.00e+00, 8.10e+01, 5.20e+01, 0.00e+00],\n",
       "       [1.00e+00, 7.11e+01, 6.30e+01, 0.00e+00],\n",
       "       [1.00e+00, 6.80e+01, 5.00e+01, 0.00e+00],\n",
       "       [1.00e+00, 7.11e+01, 5.00e+01, 0.00e+00],\n",
       "       [1.00e+00, 7.81e+01, 6.30e+01, 0.00e+00],\n",
       "       [1.00e+00, 7.00e+01, 6.10e+01, 1.60e-01],\n",
       "       [1.00e+00, 6.80e+01, 4.80e+01, 0.00e+00],\n",
       "       [1.00e+00, 6.69e+01, 5.40e+01, 0.00e+00],\n",
       "       [1.00e+00, 6.01e+01, 4.69e+01, 2.40e-01],\n",
       "       [1.00e+00, 6.21e+01, 4.69e+01, 0.00e+00],\n",
       "       [1.00e+00, 5.79e+01, 4.80e+01, 0.00e+00],\n",
       "       [1.00e+00, 5.70e+01, 4.69e+01, 5.00e-02],\n",
       "       [1.00e+00, 6.40e+01, 4.80e+01, 0.00e+00],\n",
       "       [1.00e+00, 7.81e+01, 6.60e+01, 1.00e-02],\n",
       "       [1.00e+00, 5.50e+01, 4.89e+01, 1.50e-01],\n",
       "       [1.00e+00, 3.99e+01, 3.40e+01, 9.00e-02],\n",
       "       [1.00e+00, 4.41e+01, 3.31e+01, 4.70e-01],\n",
       "       [1.00e+00, 4.21e+01, 2.61e+01, 0.00e+00],\n",
       "       [1.00e+00, 4.50e+01, 3.00e+01, 0.00e+00],\n",
       "       [1.00e+00, 5.70e+01, 5.31e+01, 9.00e-02],\n",
       "       [1.00e+00, 4.69e+01, 4.41e+01, 1.00e-02],\n",
       "       [1.00e+00, 4.30e+01, 3.79e+01, 9.00e-02],\n",
       "       [1.00e+00, 4.89e+01, 3.09e+01, 0.00e+00],\n",
       "       [1.00e+00, 6.21e+01, 4.60e+01, 1.00e-02],\n",
       "       [1.00e+00, 5.70e+01, 4.50e+01, 2.00e-01],\n",
       "       [1.00e+00, 5.70e+01, 3.99e+01, 0.00e+00],\n",
       "       [1.00e+00, 6.21e+01, 4.46e+01, 0.00e+00],\n",
       "       [1.00e+00, 6.40e+01, 4.41e+01, 0.00e+00],\n",
       "       [1.00e+00, 6.60e+01, 4.50e+01, 0.00e+00],\n",
       "       [1.00e+00, 7.39e+01, 4.60e+01, 0.00e+00],\n",
       "       [1.00e+00, 8.10e+01, 5.20e+01, 0.00e+00],\n",
       "       [1.00e+00, 7.11e+01, 6.30e+01, 0.00e+00],\n",
       "       [1.00e+00, 6.80e+01, 5.00e+01, 0.00e+00],\n",
       "       [1.00e+00, 7.11e+01, 5.00e+01, 0.00e+00],\n",
       "       [1.00e+00, 7.81e+01, 6.30e+01, 0.00e+00],\n",
       "       [1.00e+00, 7.00e+01, 6.10e+01, 1.60e-01],\n",
       "       [1.00e+00, 6.80e+01, 4.80e+01, 0.00e+00],\n",
       "       [1.00e+00, 6.69e+01, 5.40e+01, 0.00e+00],\n",
       "       [1.00e+00, 6.01e+01, 4.69e+01, 2.40e-01],\n",
       "       [1.00e+00, 6.21e+01, 4.69e+01, 0.00e+00],\n",
       "       [1.00e+00, 5.79e+01, 4.80e+01, 0.00e+00],\n",
       "       [1.00e+00, 5.70e+01, 4.69e+01, 5.00e-02],\n",
       "       [1.00e+00, 6.40e+01, 4.80e+01, 0.00e+00],\n",
       "       [1.00e+00, 7.81e+01, 6.60e+01, 1.00e-02],\n",
       "       [1.00e+00, 5.50e+01, 4.89e+01, 1.50e-01],\n",
       "       [1.00e+00, 3.99e+01, 3.40e+01, 9.00e-02],\n",
       "       [1.00e+00, 4.41e+01, 3.31e+01, 4.70e-01],\n",
       "       [1.00e+00, 4.21e+01, 2.61e+01, 0.00e+00],\n",
       "       [1.00e+00, 4.50e+01, 3.00e+01, 0.00e+00],\n",
       "       [1.00e+00, 5.70e+01, 5.31e+01, 9.00e-02],\n",
       "       [1.00e+00, 4.69e+01, 4.41e+01, 1.00e-02],\n",
       "       [1.00e+00, 4.30e+01, 3.79e+01, 9.00e-02],\n",
       "       [1.00e+00, 4.89e+01, 3.09e+01, 0.00e+00],\n",
       "       [1.00e+00, 6.21e+01, 4.60e+01, 1.00e-02],\n",
       "       [1.00e+00, 5.70e+01, 4.50e+01, 2.00e-01],\n",
       "       [1.00e+00, 5.70e+01, 3.99e+01, 0.00e+00],\n",
       "       [1.00e+00, 6.21e+01, 4.46e+01, 0.00e+00],\n",
       "       [1.00e+00, 6.40e+01, 4.41e+01, 0.00e+00],\n",
       "       [1.00e+00, 6.60e+01, 4.50e+01, 0.00e+00],\n",
       "       [1.00e+00, 7.39e+01, 4.60e+01, 0.00e+00],\n",
       "       [1.00e+00, 8.10e+01, 5.20e+01, 0.00e+00],\n",
       "       [1.00e+00, 7.11e+01, 6.30e+01, 0.00e+00],\n",
       "       [1.00e+00, 6.80e+01, 5.00e+01, 0.00e+00],\n",
       "       [1.00e+00, 7.11e+01, 5.00e+01, 0.00e+00],\n",
       "       [1.00e+00, 7.81e+01, 6.30e+01, 0.00e+00],\n",
       "       [1.00e+00, 7.00e+01, 6.10e+01, 1.60e-01],\n",
       "       [1.00e+00, 6.80e+01, 4.80e+01, 0.00e+00],\n",
       "       [1.00e+00, 6.69e+01, 5.40e+01, 0.00e+00],\n",
       "       [1.00e+00, 6.01e+01, 4.69e+01, 2.40e-01],\n",
       "       [1.00e+00, 6.21e+01, 4.69e+01, 0.00e+00],\n",
       "       [1.00e+00, 5.79e+01, 4.80e+01, 0.00e+00],\n",
       "       [1.00e+00, 5.70e+01, 4.69e+01, 5.00e-02],\n",
       "       [1.00e+00, 6.40e+01, 4.80e+01, 0.00e+00],\n",
       "       [1.00e+00, 7.81e+01, 6.60e+01, 1.00e-02],\n",
       "       [1.00e+00, 5.50e+01, 4.89e+01, 1.50e-01],\n",
       "       [1.00e+00, 3.99e+01, 3.40e+01, 9.00e-02],\n",
       "       [1.00e+00, 4.41e+01, 3.31e+01, 4.70e-01],\n",
       "       [1.00e+00, 4.21e+01, 2.61e+01, 0.00e+00],\n",
       "       [1.00e+00, 4.50e+01, 3.00e+01, 0.00e+00],\n",
       "       [1.00e+00, 5.70e+01, 5.31e+01, 9.00e-02],\n",
       "       [1.00e+00, 4.69e+01, 4.41e+01, 1.00e-02],\n",
       "       [1.00e+00, 4.30e+01, 3.79e+01, 9.00e-02],\n",
       "       [1.00e+00, 4.89e+01, 3.09e+01, 0.00e+00],\n",
       "       [1.00e+00, 6.21e+01, 4.60e+01, 1.00e-02],\n",
       "       [1.00e+00, 5.70e+01, 4.50e+01, 2.00e-01],\n",
       "       [1.00e+00, 5.70e+01, 3.99e+01, 0.00e+00],\n",
       "       [1.00e+00, 6.21e+01, 4.46e+01, 0.00e+00],\n",
       "       [1.00e+00, 6.40e+01, 4.41e+01, 0.00e+00],\n",
       "       [1.00e+00, 6.60e+01, 4.50e+01, 0.00e+00],\n",
       "       [1.00e+00, 7.39e+01, 4.60e+01, 0.00e+00],\n",
       "       [1.00e+00, 8.10e+01, 5.20e+01, 0.00e+00],\n",
       "       [1.00e+00, 7.11e+01, 6.30e+01, 0.00e+00],\n",
       "       [1.00e+00, 6.80e+01, 5.00e+01, 0.00e+00],\n",
       "       [1.00e+00, 7.11e+01, 5.00e+01, 0.00e+00],\n",
       "       [1.00e+00, 7.81e+01, 6.30e+01, 0.00e+00],\n",
       "       [1.00e+00, 7.00e+01, 6.10e+01, 1.60e-01],\n",
       "       [1.00e+00, 6.80e+01, 4.80e+01, 0.00e+00],\n",
       "       [1.00e+00, 6.69e+01, 5.40e+01, 0.00e+00],\n",
       "       [1.00e+00, 6.01e+01, 4.69e+01, 2.40e-01],\n",
       "       [1.00e+00, 6.21e+01, 4.69e+01, 0.00e+00],\n",
       "       [1.00e+00, 5.79e+01, 4.80e+01, 0.00e+00],\n",
       "       [1.00e+00, 5.70e+01, 4.69e+01, 5.00e-02],\n",
       "       [1.00e+00, 6.40e+01, 4.80e+01, 0.00e+00],\n",
       "       [1.00e+00, 7.81e+01, 6.60e+01, 1.00e-02],\n",
       "       [1.00e+00, 5.50e+01, 4.89e+01, 1.50e-01],\n",
       "       [1.00e+00, 3.99e+01, 3.40e+01, 9.00e-02],\n",
       "       [1.00e+00, 4.41e+01, 3.31e+01, 4.70e-01],\n",
       "       [1.00e+00, 4.21e+01, 2.61e+01, 0.00e+00],\n",
       "       [1.00e+00, 4.50e+01, 3.00e+01, 0.00e+00],\n",
       "       [1.00e+00, 5.70e+01, 5.31e+01, 9.00e-02],\n",
       "       [1.00e+00, 4.69e+01, 4.41e+01, 1.00e-02],\n",
       "       [1.00e+00, 4.30e+01, 3.79e+01, 9.00e-02],\n",
       "       [1.00e+00, 4.89e+01, 3.09e+01, 0.00e+00],\n",
       "       [1.00e+00, 6.21e+01, 4.60e+01, 1.00e-02],\n",
       "       [1.00e+00, 5.70e+01, 4.50e+01, 2.00e-01],\n",
       "       [1.00e+00, 5.70e+01, 3.99e+01, 0.00e+00],\n",
       "       [1.00e+00, 6.21e+01, 4.46e+01, 0.00e+00],\n",
       "       [1.00e+00, 6.40e+01, 4.41e+01, 0.00e+00],\n",
       "       [1.00e+00, 6.60e+01, 4.50e+01, 0.00e+00],\n",
       "       [1.00e+00, 7.39e+01, 4.60e+01, 0.00e+00],\n",
       "       [1.00e+00, 8.10e+01, 5.20e+01, 0.00e+00],\n",
       "       [1.00e+00, 7.11e+01, 6.30e+01, 0.00e+00],\n",
       "       [1.00e+00, 6.80e+01, 5.00e+01, 0.00e+00],\n",
       "       [1.00e+00, 7.11e+01, 5.00e+01, 0.00e+00],\n",
       "       [1.00e+00, 7.81e+01, 6.30e+01, 0.00e+00],\n",
       "       [1.00e+00, 7.00e+01, 6.10e+01, 1.60e-01],\n",
       "       [1.00e+00, 6.80e+01, 4.80e+01, 0.00e+00],\n",
       "       [1.00e+00, 6.69e+01, 5.40e+01, 0.00e+00],\n",
       "       [1.00e+00, 6.01e+01, 4.69e+01, 2.40e-01],\n",
       "       [1.00e+00, 6.21e+01, 4.69e+01, 0.00e+00],\n",
       "       [1.00e+00, 5.79e+01, 4.80e+01, 0.00e+00],\n",
       "       [1.00e+00, 5.70e+01, 4.69e+01, 5.00e-02],\n",
       "       [1.00e+00, 6.40e+01, 4.80e+01, 0.00e+00],\n",
       "       [1.00e+00, 7.81e+01, 6.60e+01, 1.00e-02],\n",
       "       [1.00e+00, 5.50e+01, 4.89e+01, 1.50e-01],\n",
       "       [1.00e+00, 3.99e+01, 3.40e+01, 9.00e-02],\n",
       "       [1.00e+00, 4.41e+01, 3.31e+01, 4.70e-01],\n",
       "       [1.00e+00, 4.21e+01, 2.61e+01, 0.00e+00],\n",
       "       [1.00e+00, 4.50e+01, 3.00e+01, 0.00e+00],\n",
       "       [1.00e+00, 5.70e+01, 5.31e+01, 9.00e-02],\n",
       "       [1.00e+00, 4.69e+01, 4.41e+01, 1.00e-02],\n",
       "       [1.00e+00, 4.30e+01, 3.79e+01, 9.00e-02],\n",
       "       [1.00e+00, 4.89e+01, 3.09e+01, 0.00e+00],\n",
       "       [1.00e+00, 6.21e+01, 4.60e+01, 1.00e-02],\n",
       "       [1.00e+00, 5.70e+01, 4.50e+01, 2.00e-01],\n",
       "       [1.00e+00, 5.70e+01, 3.99e+01, 0.00e+00],\n",
       "       [1.00e+00, 6.21e+01, 4.46e+01, 0.00e+00],\n",
       "       [1.00e+00, 6.40e+01, 4.41e+01, 0.00e+00],\n",
       "       [1.00e+00, 6.60e+01, 4.50e+01, 0.00e+00],\n",
       "       [1.00e+00, 7.39e+01, 4.60e+01, 0.00e+00],\n",
       "       [1.00e+00, 8.10e+01, 5.20e+01, 0.00e+00],\n",
       "       [1.00e+00, 7.11e+01, 6.30e+01, 0.00e+00],\n",
       "       [1.00e+00, 6.80e+01, 5.00e+01, 0.00e+00],\n",
       "       [1.00e+00, 7.11e+01, 5.00e+01, 0.00e+00],\n",
       "       [1.00e+00, 7.81e+01, 6.30e+01, 0.00e+00],\n",
       "       [1.00e+00, 7.00e+01, 6.10e+01, 1.60e-01],\n",
       "       [1.00e+00, 6.80e+01, 4.80e+01, 0.00e+00],\n",
       "       [1.00e+00, 6.69e+01, 5.40e+01, 0.00e+00],\n",
       "       [1.00e+00, 6.01e+01, 4.69e+01, 2.40e-01],\n",
       "       [1.00e+00, 6.21e+01, 4.69e+01, 0.00e+00],\n",
       "       [1.00e+00, 5.79e+01, 4.80e+01, 0.00e+00],\n",
       "       [1.00e+00, 5.70e+01, 4.69e+01, 5.00e-02],\n",
       "       [1.00e+00, 6.40e+01, 4.80e+01, 0.00e+00]])"
      ]
     },
     "execution_count": 63,
     "metadata": {},
     "output_type": "execute_result"
    }
   ],
   "source": [
    "x"
   ]
  },
  {
   "cell_type": "code",
   "execution_count": 47,
   "metadata": {},
   "outputs": [
    {
     "data": {
      "image/png": "[encoded data removed]",
      "text/plain": [
       "<Figure size 432x288 with 1 Axes>"
      ]
     },
     "metadata": {
      "needs_background": "light"
     },
     "output_type": "display_data"
    },
    {
     "name": "stdout",
     "output_type": "stream",
     "text": [
      "[2066.22898344 1547.98927967 1039.86149112 -262.43657522]\n"
     ]
    }
   ],
   "source": [
    "test_theta, info = gradient_decent2(temp_x, y[:,3], np.array([0,0,0,0]) , 0.05, 150)\n",
    "info = np.array([info])\n",
    "info = info.T\n",
    "visualise_cost_function(info[0], info[1])\n",
    "print(test_theta)"
   ]
  },
  {
   "cell_type": "code",
   "execution_count": 60,
   "metadata": {},
   "outputs": [
    {
     "data": {
      "text/plain": [
       "array([1.  , 1.  , 0.75, 0.  ])"
      ]
     },
     "execution_count": 60,
     "metadata": {},
     "output_type": "execute_result"
    }
   ],
   "source": [
    "p = np.array([1,64,48,0])\n",
    "p = (p - p.min()) / (p.max() - p.min())\n",
    "p[0] = 1\n",
    "p"
   ]
  },
  {
   "cell_type": "code",
   "execution_count": 62,
   "metadata": {},
   "outputs": [
    {
     "name": "stdout",
     "output_type": "stream",
     "text": [
      "[2066.22898344 1547.98927967 1039.86149112 -262.43657522]\n"
     ]
    }
   ],
   "source": [
    "result = np.dot(np.array([1,64,48,0]), test_theta)\n",
    "print(test_theta)"
   ]
  },
  {
   "cell_type": "code",
   "execution_count": 50,
   "metadata": {},
   "outputs": [],
   "source": [
    "def draw_graph(x,y):\n",
    "    fig = pyplot.figure()\n",
    "    pyplot.scatter(x,y,c='red')\n",
    "    pyplot.show()"
   ]
  },
  {
   "cell_type": "code",
   "execution_count": 51,
   "metadata": {},
   "outputs": [
    {
     "data": {
      "image/png": "[encoded data removed]",
      "text/plain": [
       "<Figure size 432x288 with 1 Axes>"
      ]
     },
     "metadata": {
      "needs_background": "light"
     },
     "output_type": "display_data"
    }
   ],
   "source": [
    "draw_graph(x[:,1], y[:, 0])"
   ]
  },
  {
   "cell_type": "code",
   "execution_count": 52,
   "metadata": {},
   "outputs": [
    {
     "data": {
      "image/png": "[encoded data removed]",
      "text/plain": [
       "<Figure size 432x288 with 1 Axes>"
      ]
     },
     "metadata": {
      "needs_background": "light"
     },
     "output_type": "display_data"
    }
   ],
   "source": [
    "draw_graph(x[:,2], y[:, 0])"
   ]
  },
  {
   "cell_type": "code",
   "execution_count": 53,
   "metadata": {},
   "outputs": [
    {
     "data": {
      "image/png": "[encoded data removed]",
      "text/plain": [
       "<Figure size 432x288 with 1 Axes>"
      ]
     },
     "metadata": {
      "needs_background": "light"
     },
     "output_type": "display_data"
    }
   ],
   "source": [
    "draw_graph(x[:,3], y[:, 0])"
   ]
  },
  {
   "cell_type": "code",
   "execution_count": 54,
   "metadata": {},
   "outputs": [],
   "source": [
    "def gradient_decent3(x,y,theta,alpha,num_iters):\n",
    "    m = y.shape[0]\n",
    "    tetha = theta.copy()\n",
    "    info = []\n",
    "    for i in range(num_iters):\n",
    "        h = x @ theta\n",
    "        difference = (h - y)\n",
    "        theta = theta - (alpha / m) * (x.T @ difference)\n",
    "        \n",
    "        #then we compute cost function for each itteration to see the changes\n",
    "        j = compute_normilized_cost_function(x,y, theta)\n",
    "        info.append([i, j])\n",
    "        \n",
    "    return theta, info"
   ]
  },
  {
   "cell_type": "code",
   "execution_count": 55,
   "metadata": {},
   "outputs": [],
   "source": [
    "temp_x[:, 3] = temp_x[:, 3] * 100"
   ]
  },
  {
   "cell_type": "code",
   "execution_count": 56,
   "metadata": {},
   "outputs": [
    {
     "ename": "NameError",
     "evalue": "name 'compute_normilized_cost_function' is not defined",
     "output_type": "error",
     "traceback": [
      "\u001b[1;31m---------------------------------------------------------------------------\u001b[0m",
      "\u001b[1;31mNameError\u001b[0m                                 Traceback (most recent call last)",
      "\u001b[1;32m<ipython-input-56-dd3189c87786>\u001b[0m in \u001b[0;36m<module>\u001b[1;34m\u001b[0m\n\u001b[1;32m----> 1\u001b[1;33m \u001b[0mtest_one\u001b[0m\u001b[1;33m,\u001b[0m \u001b[0minfo\u001b[0m \u001b[1;33m=\u001b[0m \u001b[0mgradient_decent3\u001b[0m\u001b[1;33m(\u001b[0m\u001b[0mtemp_x\u001b[0m\u001b[1;33m,\u001b[0m \u001b[0my\u001b[0m\u001b[1;33m[\u001b[0m\u001b[1;33m:\u001b[0m\u001b[1;33m,\u001b[0m\u001b[1;36m0\u001b[0m\u001b[1;33m]\u001b[0m\u001b[1;33m,\u001b[0m \u001b[0mnp\u001b[0m\u001b[1;33m.\u001b[0m\u001b[0marray\u001b[0m\u001b[1;33m(\u001b[0m\u001b[1;33m[\u001b[0m\u001b[1;36m0\u001b[0m\u001b[1;33m,\u001b[0m\u001b[1;36m0\u001b[0m\u001b[1;33m,\u001b[0m\u001b[1;36m0\u001b[0m\u001b[1;33m,\u001b[0m\u001b[1;36m10\u001b[0m\u001b[1;33m]\u001b[0m\u001b[1;33m)\u001b[0m \u001b[1;33m,\u001b[0m\u001b[1;36m0.01\u001b[0m\u001b[1;33m,\u001b[0m \u001b[1;36m50\u001b[0m\u001b[1;33m)\u001b[0m\u001b[1;33m\u001b[0m\u001b[1;33m\u001b[0m\u001b[0m\n\u001b[0m\u001b[0;32m      2\u001b[0m \u001b[0minfo\u001b[0m \u001b[1;33m=\u001b[0m \u001b[0mnp\u001b[0m\u001b[1;33m.\u001b[0m\u001b[0marray\u001b[0m\u001b[1;33m(\u001b[0m\u001b[1;33m[\u001b[0m\u001b[0minfo\u001b[0m\u001b[1;33m]\u001b[0m\u001b[1;33m)\u001b[0m\u001b[1;33m\u001b[0m\u001b[1;33m\u001b[0m\u001b[0m\n\u001b[0;32m      3\u001b[0m \u001b[0minfo\u001b[0m \u001b[1;33m=\u001b[0m \u001b[0minfo\u001b[0m\u001b[1;33m.\u001b[0m\u001b[0mT\u001b[0m\u001b[1;33m\u001b[0m\u001b[1;33m\u001b[0m\u001b[0m\n\u001b[0;32m      4\u001b[0m \u001b[0mvisualise_cost_function\u001b[0m\u001b[1;33m(\u001b[0m\u001b[0minfo\u001b[0m\u001b[1;33m[\u001b[0m\u001b[1;36m0\u001b[0m\u001b[1;33m]\u001b[0m\u001b[1;33m,\u001b[0m \u001b[0minfo\u001b[0m\u001b[1;33m[\u001b[0m\u001b[1;36m1\u001b[0m\u001b[1;33m]\u001b[0m\u001b[1;33m)\u001b[0m\u001b[1;33m\u001b[0m\u001b[1;33m\u001b[0m\u001b[0m\n\u001b[0;32m      5\u001b[0m \u001b[0mprint\u001b[0m\u001b[1;33m(\u001b[0m\u001b[0mtheta0\u001b[0m\u001b[1;33m)\u001b[0m\u001b[1;33m\u001b[0m\u001b[1;33m\u001b[0m\u001b[0m\n",
      "\u001b[1;32m<ipython-input-54-fae4d0b1b864>\u001b[0m in \u001b[0;36mgradient_decent3\u001b[1;34m(x, y, theta, alpha, num_iters)\u001b[0m\n\u001b[0;32m      9\u001b[0m \u001b[1;33m\u001b[0m\u001b[0m\n\u001b[0;32m     10\u001b[0m         \u001b[1;31m#then we compute cost function for each itteration to see the changes\u001b[0m\u001b[1;33m\u001b[0m\u001b[1;33m\u001b[0m\u001b[1;33m\u001b[0m\u001b[0m\n\u001b[1;32m---> 11\u001b[1;33m         \u001b[0mj\u001b[0m \u001b[1;33m=\u001b[0m \u001b[0mcompute_normilized_cost_function\u001b[0m\u001b[1;33m(\u001b[0m\u001b[0mx\u001b[0m\u001b[1;33m,\u001b[0m\u001b[0my\u001b[0m\u001b[1;33m,\u001b[0m \u001b[0mtheta\u001b[0m\u001b[1;33m)\u001b[0m\u001b[1;33m\u001b[0m\u001b[1;33m\u001b[0m\u001b[0m\n\u001b[0m\u001b[0;32m     12\u001b[0m         \u001b[0minfo\u001b[0m\u001b[1;33m.\u001b[0m\u001b[0mappend\u001b[0m\u001b[1;33m(\u001b[0m\u001b[1;33m[\u001b[0m\u001b[0mi\u001b[0m\u001b[1;33m,\u001b[0m \u001b[0mj\u001b[0m\u001b[1;33m]\u001b[0m\u001b[1;33m)\u001b[0m\u001b[1;33m\u001b[0m\u001b[1;33m\u001b[0m\u001b[0m\n\u001b[0;32m     13\u001b[0m \u001b[1;33m\u001b[0m\u001b[0m\n",
      "\u001b[1;31mNameError\u001b[0m: name 'compute_normilized_cost_function' is not defined"
     ]
    }
   ],
   "source": [
    "test_one, info = gradient_decent3(temp_x, y[:,0], np.array([0,0,0,10]) ,0.01, 50)\n",
    "info = np.array([info])\n",
    "info = info.T\n",
    "visualise_cost_function(info[0], info[1])\n",
    "print(theta0)"
   ]
  }
 ],
 "metadata": {
  "kernelspec": {
   "display_name": "Python 3",
   "language": "python",
   "name": "python3"
  },
  "language_info": {
   "codemirror_mode": {
    "name": "ipython",
    "version": 3
   },
   "file_extension": ".py",
   "mimetype": "text/x-python",
   "name": "python",
   "nbconvert_exporter": "python",
   "pygments_lexer": "ipython3",
   "version": "3.8.5"
  }
 },
 "nbformat": 4,
 "nbformat_minor": 4
}
