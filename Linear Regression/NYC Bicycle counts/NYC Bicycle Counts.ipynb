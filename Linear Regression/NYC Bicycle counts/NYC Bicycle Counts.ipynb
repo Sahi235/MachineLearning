{
 "cells": [
  {
   "cell_type": "code",
   "execution_count": 91,
   "metadata": {},
   "outputs": [],
   "source": [
    "# Importing libraries\n",
    "import os\n",
    "import pandas as pd\n",
    "import numpy as np\n",
    "# ploting 2D data\n",
    "from matplotlib import pyplot\n",
    "# ploting 3D data\n",
    "from mpl_toolkits.mplot3d import Axes3D"
   ]
  },
  {
   "cell_type": "code",
   "execution_count": 92,
   "metadata": {},
   "outputs": [],
   "source": [
    "# Loading data set with pandas and cleaning some data\n",
    "\n",
    "df = pd.read_csv('nyc-east-river-bicycle-counts.csv')\n",
    "df.drop('Unnamed: 0', inplace=True, axis = 1)"
   ]
  },
  {
   "cell_type": "code",
   "execution_count": 93,
   "metadata": {},
   "outputs": [],
   "source": [
    "# Extracting our x and y from data set as series and converting them to numpy array \n",
    "\n",
    "x = df[['High Temp (°F)', 'Low Temp (°F)', 'Precipitation']].to_numpy()\n",
    "y = df[['Brooklyn Bridge', 'Manhattan Bridge','Williamsburg Bridge', 'Queensboro Bridge']].to_numpy()\n",
    "temp_x = x.copy()"
   ]
  },
  {
   "cell_type": "code",
   "execution_count": 94,
   "metadata": {},
   "outputs": [],
   "source": [
    "# before we start writing cost function we have to insert one column to X matrix, be cause we are gonna use\n",
    "# vectorized version of computation\n",
    "#Do not run this column more than ones\n",
    "\n",
    "m = x[:,1].size\n",
    "x = np.append(np.ones(m).reshape(m,1),x, axis=1)\n",
    "temp_x = np.append(np.ones(m).reshape(m, 1), temp_x, axis=1)"
   ]
  },
  {
   "cell_type": "markdown",
   "metadata": {},
   "source": [
    "<h3>Cost function equation</h3>\n",
    "$$ J(\\theta) = \\frac{1}{2m} \\sum_{i=1}^m \\left( h_{\\theta}(x^{(i)}) - y^{(i)}\\right)^2$$\n",
    "\n",
    "where the hypothesis $h_\\theta(x)$ is given by the linear model\n",
    "$$ h_\\theta(x) = \\theta^Tx = \\theta_0 + \\theta_1 x_1$$"
   ]
  },
  {
   "cell_type": "code",
   "execution_count": 95,
   "metadata": {},
   "outputs": [],
   "source": [
    "def compute_cost_function(x, y, theta):\n",
    "    m = y.size\n",
    "    j = 0\n",
    "    h = x @ theta\n",
    "    difference = (h - y) ** 2\n",
    "    j = np.sum(difference) / (2 * m)\n",
    "    return j\n",
    "    "
   ]
  },
  {
   "cell_type": "code",
   "execution_count": 96,
   "metadata": {},
   "outputs": [
    {
     "data": {
      "text/plain": [
       "3054739.0833333335"
      ]
     },
     "execution_count": 96,
     "metadata": {},
     "output_type": "execute_result"
    }
   ],
   "source": [
    "# Testing cost function if it works\n",
    "compute_cost_function(x, y[:,0], np.array([0,0,0,0]))"
   ]
  },
  {
   "cell_type": "code",
   "execution_count": 97,
   "metadata": {},
   "outputs": [],
   "source": [
    "def visualise_cost_function(x,y):\n",
    "    pyplot.plot(x, y, c='red')\n",
    "    pyplot.xlabel('Number Of Itteration')\n",
    "    pyplot.ylabel('Cost Function')\n",
    "    pyplot.show()"
   ]
  },
  {
   "cell_type": "markdown",
   "metadata": {},
   "source": [
    "<h3>Gradient decent</h3>\n",
    "\n",
    "$$ \\theta_j = \\theta_j - \\alpha \\frac{1}{m} \\sum_{i=1}^m \\left( h_\\theta(x^{(i)}) - y^{(i)}\\right)x_j^{(i)} \\qquad \\text{simultaneously update } \\theta_j \\text{ for all } j$$\n",
    "\n",
    "With each step of gradient descent, your parameters $\\theta_j$ come closer to the optimal values that will achieve the lowest cost J($\\theta$).\n",
    "\n",
    "<h3 class=\"text text-danger\">Notice here we have multiple y then we have to make model for each y and compute it's related thetas</h3>"
   ]
  },
  {
   "cell_type": "code",
   "execution_count": 98,
   "metadata": {},
   "outputs": [],
   "source": [
    "# Somehow this shit doesnt work properly\n",
    "# will fix this later\n",
    "def gradient_decent_for_all_y(x, y, theta, alpha, num_itteration):\n",
    "    m = y[:, 0].size\n",
    "    temp_y = np.array(y, copy=True)\n",
    "    thetas = []\n",
    "    \n",
    "    for i in range(len(y.T)):\n",
    "        temp = []\n",
    "        temp_theta = np.array(theta, copy=True)\n",
    "        for n in range(num_itteration):\n",
    "            h = x @ temp_theta\n",
    "            difference = (h - y[:, i])\n",
    "            temp_theta = temp_theta - (alpha / m) * (x.T @ difference)\n",
    "            temp.append([n, compute_cost_function(x,y[:,i], temp_theta)])\n",
    "        thetas.append(temp_theta)\n",
    "        #visualise_cost_function(temp[0], temp[1])\n",
    "    return thetas\n",
    "            "
   ]
  },
  {
   "cell_type": "code",
   "execution_count": 99,
   "metadata": {},
   "outputs": [],
   "source": [
    "def gradient_decent2(x,y,theta,alpha,num_iters):\n",
    "    m = y.shape[0]\n",
    "    tetha = theta.copy()\n",
    "    info = []\n",
    "    for i in range(num_iters):\n",
    "        h = x @ theta\n",
    "        difference = (h - y)\n",
    "        theta = theta - (alpha / m) * (x.T @ difference)\n",
    "        \n",
    "        #then we compute cost function for each itteration to see the changes\n",
    "        j = compute_cost_function(x,y, theta)\n",
    "        info.append([i, j])\n",
    "        \n",
    "    return theta, info"
   ]
  },
  {
   "cell_type": "code",
   "execution_count": 100,
   "metadata": {},
   "outputs": [
    {
     "data": {
      "image/png": "[encoded data removed]",
      "text/plain": [
       "<Figure size 432x288 with 1 Axes>"
      ]
     },
     "metadata": {
      "needs_background": "light"
     },
     "output_type": "display_data"
    },
    {
     "name": "stdout",
     "output_type": "stream",
     "text": [
      "[ 0.33476842 25.20868857 16.85557142 -0.04130135]\n"
     ]
    }
   ],
   "source": [
    "# finding first y's thetas\n",
    "theta0, info = gradient_decent2(x, y[:,0], np.array([0,0,0,0]) ,0.00004, 30)\n",
    "info = np.array([info])\n",
    "info = info.T\n",
    "visualise_cost_function(info[0], info[1])\n",
    "print(theta0)"
   ]
  },
  {
   "cell_type": "code",
   "execution_count": 101,
   "metadata": {},
   "outputs": [
    {
     "data": {
      "image/png": "[encoded data removed]",
      "text/plain": [
       "<Figure size 432x288 with 1 Axes>"
      ]
     },
     "metadata": {
      "needs_background": "light"
     },
     "output_type": "display_data"
    },
    {
     "name": "stdout",
     "output_type": "stream",
     "text": [
      "[ 0.58760221 45.15541966 29.66888552 -0.09245174]\n"
     ]
    }
   ],
   "source": [
    "# finding second y's thetas\n",
    "theta1, info = gradient_decent2(x, y[:,1], np.array([0,0,0,0]) ,0.00003, 50)\n",
    "info = np.array([info])\n",
    "info = info.T\n",
    "visualise_cost_function(info[0], info[1])\n",
    "print(theta1)"
   ]
  },
  {
   "cell_type": "code",
   "execution_count": 102,
   "metadata": {},
   "outputs": [
    {
     "data": {
      "image/png": "[encoded data removed]",
      "text/plain": [
       "<Figure size 432x288 with 1 Axes>"
      ]
     },
     "metadata": {
      "needs_background": "light"
     },
     "output_type": "display_data"
    },
    {
     "name": "stdout",
     "output_type": "stream",
     "text": [
      "[ 7.49689651e-01  5.26555950e+01  3.73091231e+01 -4.48062027e-02]\n"
     ]
    }
   ],
   "source": [
    "# finding third y's thetas\n",
    "theta2, info = gradient_decent2(x, y[:,2], np.array([0,0,0,0]) ,0.00002, 50)\n",
    "info = np.array([info])\n",
    "info = info.T\n",
    "visualise_cost_function(info[0], info[1])\n",
    "print(theta2)"
   ]
  },
  {
   "cell_type": "code",
   "execution_count": 103,
   "metadata": {},
   "outputs": [
    {
     "data": {
      "image/png": "[encoded data removed]",
      "text/plain": [
       "<Figure size 432x288 with 1 Axes>"
      ]
     },
     "metadata": {
      "needs_background": "light"
     },
     "output_type": "display_data"
    },
    {
     "name": "stdout",
     "output_type": "stream",
     "text": [
      "[ 5.41126229e-01  3.56404939e+01  2.56059626e+01 -1.34392242e-02]\n"
     ]
    }
   ],
   "source": [
    "# finding forth y's thetas\n",
    "theta3, info = gradient_decent2(x, y[:,3], np.array([0,0,0,0]) ,0.00001, 80)\n",
    "info = np.array([info])\n",
    "info = info.T\n",
    "visualise_cost_function(info[0], info[1])\n",
    "print(theta3)"
   ]
  },
  {
   "cell_type": "code",
   "execution_count": 104,
   "metadata": {},
   "outputs": [
    {
     "data": {
      "text/plain": [
       "[array([3.08818444e-01, 2.03897295e+01, 1.50251875e+01, 2.24576054e-04]),\n",
       " array([5.52446019e-01, 3.62474268e+01, 2.68193329e+01, 1.88527095e-03]),\n",
       " array([6.64728815e-01, 4.33180161e+01, 3.23174528e+01, 7.18765910e-03]),\n",
       " array([4.62879999e-01, 2.96315885e+01, 2.20884295e+01, 7.15580355e-03])]"
      ]
     },
     "execution_count": 104,
     "metadata": {},
     "output_type": "execute_result"
    }
   ],
   "source": [
    "thetas = gradient_decent_for_all_y(x,y, np.array([0,0,0,0]), 0.000001, 300)\n",
    "thetas"
   ]
  },
  {
   "cell_type": "code",
   "execution_count": 105,
   "metadata": {},
   "outputs": [
    {
     "data": {
      "text/plain": [
       "1448.0243354683314"
      ]
     },
     "execution_count": 105,
     "metadata": {},
     "output_type": "execute_result"
    }
   ],
   "source": [
    "result = np.dot([1, 43, 38, 0.09], thetas[0])\n",
    "result"
   ]
  },
  {
   "cell_type": "code",
   "execution_count": 106,
   "metadata": {},
   "outputs": [],
   "source": [
    "temp_x[:,1] = (temp_x[:, 1] - temp_x[:, 1].mean()) / (temp_x[:, 1].max() - temp_x[:, 1].min())"
   ]
  },
  {
   "cell_type": "code",
   "execution_count": 107,
   "metadata": {},
   "outputs": [],
   "source": [
    "temp_x[:,2] = (temp_x[:, 2] - temp_x[:, 2].mean()) / (temp_x[:, 2].max() - temp_x[:, 2].min())"
   ]
  },
  {
   "cell_type": "code",
   "execution_count": 108,
   "metadata": {},
   "outputs": [],
   "source": [
    "#temp_x[:,3] = (temp_x[:, 3] - temp_x[:, 3].mean()) / (temp_x[:, 3].max() - temp_x[:, 3].min())"
   ]
  },
  {
   "cell_type": "code",
   "execution_count": 129,
   "metadata": {},
   "outputs": [
    {
     "data": {
      "image/png": "[encoded data removed]",
      "text/plain": [
       "<Figure size 432x288 with 1 Axes>"
      ]
     },
     "metadata": {
      "needs_background": "light"
     },
     "output_type": "display_data"
    },
    {
     "name": "stdout",
     "output_type": "stream",
     "text": [
      "[4110.67042669  635.09699752  375.56551703   23.96308837]\n"
     ]
    }
   ],
   "source": [
    "test_theta, info = gradient_decent2(temp_x, y[:,2], np.array([0,0,0,0]) ,0.01,186)\n",
    "info = np.array([info])\n",
    "info = info.T\n",
    "visualise_cost_function(info[0], info[1])\n",
    "print(test_theta)"
   ]
  },
  {
   "cell_type": "code",
   "execution_count": 132,
   "metadata": {},
   "outputs": [
    {
     "data": {
      "text/plain": [
       "62784.02308565744"
      ]
     },
     "execution_count": 132,
     "metadata": {},
     "output_type": "execute_result"
    }
   ],
   "source": [
    "result = np.dot([1, 64, 48, 0], test_theta)\n",
    "result"
   ]
  },
  {
   "cell_type": "code",
   "execution_count": null,
   "metadata": {},
   "outputs": [],
   "source": []
  }
 ],
 "metadata": {
  "kernelspec": {
   "display_name": "Python 3",
   "language": "python",
   "name": "python3"
  },
  "language_info": {
   "codemirror_mode": {
    "name": "ipython",
    "version": 3
   },
   "file_extension": ".py",
   "mimetype": "text/x-python",
   "name": "python",
   "nbconvert_exporter": "python",
   "pygments_lexer": "ipython3",
   "version": "3.8.5"
  }
 },
 "nbformat": 4,
 "nbformat_minor": 4
}
