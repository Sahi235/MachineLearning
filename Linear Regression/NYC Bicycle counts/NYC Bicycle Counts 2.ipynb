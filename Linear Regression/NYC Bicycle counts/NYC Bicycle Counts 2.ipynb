{
 "cells": [
  {
   "cell_type": "code",
   "execution_count": 107,
   "metadata": {},
   "outputs": [],
   "source": [
    "# Importing libraries\n",
    "import os\n",
    "import pandas as pd\n",
    "import numpy as np\n",
    "# ploting 2D data\n",
    "from matplotlib import pyplot\n",
    "# ploting 3D data\n",
    "from mpl_toolkits.mplot3d import Axes3D"
   ]
  },
  {
   "cell_type": "code",
   "execution_count": 108,
   "metadata": {},
   "outputs": [],
   "source": [
    "# Loading data set with pandas and cleaning some data\n",
    "\n",
    "df = pd.read_csv('nyc-east-river-bicycle-counts.csv')\n",
    "df.drop('Unnamed: 0', inplace=True, axis = 1)"
   ]
  },
  {
   "cell_type": "code",
   "execution_count": 109,
   "metadata": {},
   "outputs": [],
   "source": [
    "# Extracting our x and y from data set as series and converting them to numpy array \n",
    "\n",
    "x_all = df[['High Temp (°F)', 'Low Temp (°F)', 'Precipitation']].to_numpy()\n",
    "x = df['Precipitation'].to_numpy()\n",
    "y_all = df[['Brooklyn Bridge', 'Manhattan Bridge','Williamsburg Bridge', 'Queensboro Bridge']].to_numpy()\n",
    "y = df['Brooklyn Bridge']\n",
    "m = y.size"
   ]
  },
  {
   "cell_type": "code",
   "execution_count": 110,
   "metadata": {},
   "outputs": [],
   "source": [
    "x = np.append(x.reshape(m,1), (x**2).reshape(m,1), axis=1)"
   ]
  },
  {
   "cell_type": "code",
   "execution_count": 111,
   "metadata": {},
   "outputs": [],
   "source": [
    "x = np.insert(x, 2, (x[:,0])**3, axis=1)\n",
    "x = np.insert(x, 3, (x[:,0])**4, axis=1)\n",
    "x = np.insert(x, 4, (x[:,0])**5, axis=1)\n",
    "x = np.insert(x, 5, (x[:,0])**6, axis=1)"
   ]
  },
  {
   "cell_type": "code",
   "execution_count": 113,
   "metadata": {},
   "outputs": [],
   "source": [
    "# before we start writing cost function we have to insert one column to X matrix, be cause we are gonna use\n",
    "# vectorized version of computation\n",
    "#Do not run this column more than ones\n",
    "x = np.append(np.ones(m).reshape(m,1), x.reshape(m,6), axis=1)"
   ]
  },
  {
   "cell_type": "code",
   "execution_count": 114,
   "metadata": {},
   "outputs": [],
   "source": [
    "def compute_cost_function_of_degree_2(x, y, theta):\n",
    "    m = y.size\n",
    "    j = 0\n",
    "    h = x @ theta\n",
    "    difference = (h - y) ** 2\n",
    "    j = np.sum(difference) / (2 * m)\n",
    "    return j"
   ]
  },
  {
   "cell_type": "code",
   "execution_count": 116,
   "metadata": {},
   "outputs": [
    {
     "data": {
      "text/plain": [
       "3054739.0833333335"
      ]
     },
     "execution_count": 116,
     "metadata": {},
     "output_type": "execute_result"
    }
   ],
   "source": [
    "# Testing cost function if it works\n",
    "compute_cost_function_of_degree_2(x, y, np.array([0,0,0,0,0,0,0]))"
   ]
  },
  {
   "cell_type": "code",
   "execution_count": 117,
   "metadata": {},
   "outputs": [],
   "source": [
    "def gradient_decent(x,y,theta,alpha,num_iters):\n",
    "    m = y.shape[0]\n",
    "    tetha = theta.copy()\n",
    "    info = []\n",
    "    for i in range(num_iters):\n",
    "        h = x @ theta\n",
    "        difference = (h - y)\n",
    "        theta = theta - (alpha / m) * (x.T @ difference)\n",
    "        \n",
    "        #then we compute cost function for each itteration to see the changes\n",
    "        j = compute_cost_function_of_degree_2(x,y, theta)\n",
    "        info.append([i, j])\n",
    "        \n",
    "    return theta, info"
   ]
  },
  {
   "cell_type": "code",
   "execution_count": 118,
   "metadata": {},
   "outputs": [],
   "source": [
    "def visualise_cost_function(x,y):\n",
    "    pyplot.plot(x, y, c='red')\n",
    "    pyplot.xlabel('Number Of Itteration')\n",
    "    pyplot.ylabel('Cost Function')\n",
    "    pyplot.show()"
   ]
  },
  {
   "cell_type": "code",
   "execution_count": 119,
   "metadata": {},
   "outputs": [],
   "source": [
    "def scatter(x,y):\n",
    "    pyplot.scatter(x, y)\n",
    "    pyplot.show()"
   ]
  },
  {
   "cell_type": "code",
   "execution_count": 128,
   "metadata": {
    "scrolled": true
   },
   "outputs": [
    {
     "data": {
      "image/png": "[encoded data removed]",
      "text/plain": [
       "<Figure size 432x288 with 1 Axes>"
      ]
     },
     "metadata": {
      "needs_background": "light"
     },
     "output_type": "display_data"
    },
    {
     "name": "stdout",
     "output_type": "stream",
     "text": [
      "[ 2464.49901284 -3503.3810302   -835.57200327  -296.58803335\n",
      "  -126.59948504   -57.64724867   -26.80960792]\n"
     ]
    }
   ],
   "source": [
    "# finding first y's thetas\n",
    "theta_test_0, info = gradient_decent(x, y, np.array([0,0,0,0,0,0,0]) ,0.1, 1000)\n",
    "info = np.array([info])\n",
    "info = info.T\n",
    "visualise_cost_function(info[0], info[1])\n",
    "print(theta_test_0)"
   ]
  },
  {
   "cell_type": "code",
   "execution_count": 129,
   "metadata": {},
   "outputs": [],
   "source": [
    "def polonomyal_x(x_input, degree):\n",
    "    size = x_input.size\n",
    "    arr = np.zeros((size, degree))\n",
    "    for i in range(degree):\n",
    "        arr[:, i] = x_input ** (i + 1)\n",
    "    \n",
    "    return arr"
   ]
  },
  {
   "cell_type": "code",
   "execution_count": 130,
   "metadata": {},
   "outputs": [],
   "source": [
    "x_pred = np.linspace(0, 0.9 , pred.size)\n",
    "result = polonomyal_x(x_pred, 6)\n",
    "result = np.insert(result, 0,  np.ones(m), axis=1)"
   ]
  },
  {
   "cell_type": "code",
   "execution_count": 131,
   "metadata": {
    "scrolled": true
   },
   "outputs": [
    {
     "data": {
      "image/png": "[encoded data removed]",
      "text/plain": [
       "<Figure size 432x288 with 1 Axes>"
      ]
     },
     "metadata": {
      "needs_background": "light"
     },
     "output_type": "display_data"
    }
   ],
   "source": [
    "pyplot.scatter(x[:, 1],y)\n",
    "pred = result @ theta_test_0\n",
    "pyplot.plot(x_pred, pred, c='red', ms=2, mec='k', mew=1.5)\n",
    "pass"
   ]
  },
  {
   "cell_type": "code",
   "execution_count": null,
   "metadata": {},
   "outputs": [],
   "source": []
  }
 ],
 "metadata": {
  "kernelspec": {
   "display_name": "Python 3",
   "language": "python",
   "name": "python3"
  },
  "language_info": {
   "codemirror_mode": {
    "name": "ipython",
    "version": 3
   },
   "file_extension": ".py",
   "mimetype": "text/x-python",
   "name": "python",
   "nbconvert_exporter": "python",
   "pygments_lexer": "ipython3",
   "version": "3.8.5"
  }
 },
 "nbformat": 4,
 "nbformat_minor": 4
}
